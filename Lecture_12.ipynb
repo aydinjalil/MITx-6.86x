{
 "cells": [
  {
   "cell_type": "markdown",
   "metadata": {},
   "source": [
    "For discrete functions, we can define the convolution as:\n",
    "\n",
    "(f∗g)[n]≡∑m=−∞m=+∞f[m]g[n−m]\n",
    " \n",
    "Here, we give an example of convolution on 1D discrete signal.\n",
    "Let f[n]=[1,2,3], g[n]=[2,1] and suppose n starts from 0. We are computing h[n]=f[n]∗g[n].\n",
    "As f and g are finite signals, we just put 0 to where f and g are not defined. This is usually called zero padding. Now, let's compute h[n] step by step:\n",
    "\n",
    " \th[0]\t=\tf[0]⋅g[0−0]+f[1]⋅g[0−1]+⋯=f[0]⋅g[0]=2\t \t \n",
    " \th[1]\t=\tf[0]⋅g[1−0]+f[1]⋅g[1−1]+f[2]⋅g[1−2]+⋯=f[0]⋅g[1]+f[1]⋅g[0]=5\t \t \n",
    " \th[2]\t=\tf[0]⋅g[2−0]+f[1]⋅g[2−1]+f[2]⋅g[2−2]+f[3]⋅g[2−3]+⋯=f[1]⋅g[1]+f[2]⋅g[0]=8\t \t \n",
    " \th[3]\t=\tf[0]⋅g[3−0]+f[1]⋅g[3−1]+f[2]⋅g[3−2]+f[3]⋅g[3−3]+f[4]⋅g[3−4]+⋯=f[2]⋅g[1]=3\t \t \n",
    "The other parts of h are all 0.\n",
    "\n",
    "\n",
    "In practice, it is common to call the flipped g′ as filter or kernel, for the input signal or image f.\n",
    "\n",
    "As we forced to pad zeros to where the input are not defined, the result on the edge of the input may not be accurate. To avoid this, we can just keep the convolution result where g′ has operated exclusively on where the input f is actually defined. That is h[n]=[5,8].\n",
    "\n",
    "Now suppose the input f=[1,3,−1,1,−3], and the filter g′=[1,0,−1], what is the convolutional output of f∗g without zero padding on f? Enter your answer as a list below (e.g. [0,0,0])"
   ]
  },
  {
   "cell_type": "code",
   "execution_count": 551,
   "metadata": {},
   "outputs": [],
   "source": [
    "def convolution (f, g):\n",
    "    import numpy as np\n",
    "    \n",
    "#     m = f.shape[0]\n",
    "#     n = g.shape[0]\n",
    "    \n",
    "#     count = 0\n",
    "#     h_list = []\n",
    "#     while count < m:\n",
    "#         for i in range(m):\n",
    "#             summary = 0\n",
    "#             print(\"f_shape - i: \", m-i)\n",
    "#             g_adjust = np.pad(g, (m-i), mode = \"constant\")\n",
    "#             f_adjust = np.pad(f, (0,1), mode = \"constant\")\n",
    "#             for j in range(m):\n",
    "#                 summary += f_adjust[j] * g_adjust[m-j]\n",
    "#             count += 1\n",
    "#             h_list.append(summary)\n",
    "#             print(\"h list: \", h_list)\n",
    "    return np.convolve(f, g, mode = \"valid\") "
   ]
  },
  {
   "cell_type": "code",
   "execution_count": 552,
   "metadata": {},
   "outputs": [],
   "source": [
    "import numpy as np\n",
    "# f = np.array([1,2,3])\n",
    "# g = np.array([1, 2])\n",
    "f = np.array([1,3,-1,1,-3])\n",
    "g = np.array([1, 0, -1])"
   ]
  },
  {
   "cell_type": "code",
   "execution_count": 553,
   "metadata": {},
   "outputs": [
    {
     "data": {
      "text/plain": [
       "array([2, 2, 2])"
      ]
     },
     "execution_count": 553,
     "metadata": {},
     "output_type": "execute_result"
    }
   ],
   "source": [
    "convolution(f, np.flip(g, axis=0))"
   ]
  },
  {
   "cell_type": "code",
   "execution_count": 583,
   "metadata": {},
   "outputs": [],
   "source": [
    "def multi_convolution (f, g):\n",
    "#     import numpy as np\n",
    "    from scipy import signal\n",
    "    \n",
    "    return signal.convolve2d(f, g, mode = \"valid\") "
   ]
  },
  {
   "cell_type": "code",
   "execution_count": 584,
   "metadata": {},
   "outputs": [],
   "source": [
    "f_multi = np.array([[1, 2, 1], [2, 1, 1], [1, 1, 1]])\n",
    "g_multi = np.array([[1, 0.5], [0.5, 1]])"
   ]
  },
  {
   "cell_type": "code",
   "execution_count": 587,
   "metadata": {
    "scrolled": true
   },
   "outputs": [
    {
     "data": {
      "text/plain": [
       "15.0"
      ]
     },
     "execution_count": 587,
     "metadata": {},
     "output_type": "execute_result"
    }
   ],
   "source": [
    "np.sum(multi_convolution(f_multi, np.flip(g_multi, axis=0)))"
   ]
  },
  {
   "cell_type": "code",
   "execution_count": 605,
   "metadata": {},
   "outputs": [],
   "source": [
    "def max_pooling (f, g):\n",
    "#     import numpy as np\n",
    "    from scipy import signal\n",
    "    import skimage.measure as measure\n",
    "    \n",
    "    multi_convolute = signal.convolve2d(f, g, mode = \"valid\")\n",
    "    return measure.block_reduce(multi_convolute, (2, 2), np.max)"
   ]
  },
  {
   "cell_type": "code",
   "execution_count": 606,
   "metadata": {},
   "outputs": [],
   "source": [
    "I = np.array([[1, 0, 2], [3, 1, 0], [0, 0, 4]])\n",
    "F = np.array([[1, 0], [0, 1]])"
   ]
  },
  {
   "cell_type": "code",
   "execution_count": 607,
   "metadata": {},
   "outputs": [
    {
     "data": {
      "text/plain": [
       "5"
      ]
     },
     "execution_count": 607,
     "metadata": {},
     "output_type": "execute_result"
    }
   ],
   "source": [
    "np.sum(max_pooling(I, F))"
   ]
  },
  {
   "cell_type": "code",
   "execution_count": 608,
   "metadata": {},
   "outputs": [
    {
     "data": {
      "text/plain": [
       "array([[2, 0],\n",
       "       [3, 5]])"
      ]
     },
     "execution_count": 608,
     "metadata": {},
     "output_type": "execute_result"
    }
   ],
   "source": [
    "multi_convolution(I, F)"
   ]
  },
  {
   "cell_type": "code",
   "execution_count": null,
   "metadata": {},
   "outputs": [],
   "source": []
  }
 ],
 "metadata": {
  "kernelspec": {
   "display_name": "Python [conda env:6.86x]",
   "language": "python",
   "name": "conda-env-6.86x-py"
  },
  "language_info": {
   "codemirror_mode": {
    "name": "ipython",
    "version": 3
   },
   "file_extension": ".py",
   "mimetype": "text/x-python",
   "name": "python",
   "nbconvert_exporter": "python",
   "pygments_lexer": "ipython3",
   "version": "3.6.12"
  }
 },
 "nbformat": 4,
 "nbformat_minor": 2
}
