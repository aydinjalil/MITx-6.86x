{
 "cells": [
  {
   "cell_type": "markdown",
   "metadata": {},
   "source": [
    "## Neural Networks"
   ]
  },
  {
   "cell_type": "code",
   "execution_count": 1,
   "metadata": {},
   "outputs": [],
   "source": [
    "import numpy as np"
   ]
  },
  {
   "cell_type": "code",
   "execution_count": 24,
   "metadata": {},
   "outputs": [],
   "source": [
    "x_1 = 3\n",
    "x_2 = 14\n",
    "x = [3, 14]"
   ]
  },
  {
   "cell_type": "code",
   "execution_count": 25,
   "metadata": {},
   "outputs": [],
   "source": [
    "W = np.array([[1,0,-1], [0, 1, -1], [-1, 0, -1], [0, -1, -1]])"
   ]
  },
  {
   "cell_type": "code",
   "execution_count": 26,
   "metadata": {},
   "outputs": [
    {
     "data": {
      "text/plain": [
       "array([[ 1,  0, -1],\n",
       "       [ 0,  1, -1],\n",
       "       [-1,  0, -1],\n",
       "       [ 0, -1, -1]])"
      ]
     },
     "execution_count": 26,
     "metadata": {},
     "output_type": "execute_result"
    }
   ],
   "source": [
    "W"
   ]
  },
  {
   "cell_type": "code",
   "execution_count": 27,
   "metadata": {},
   "outputs": [],
   "source": [
    "V = np.array([[1, 1, 1, 1, 0], [-1, -1, -1, -1, 2]])"
   ]
  },
  {
   "cell_type": "code",
   "execution_count": 28,
   "metadata": {},
   "outputs": [
    {
     "data": {
      "text/plain": [
       "array([[ 1,  1,  1,  1,  0],\n",
       "       [-1, -1, -1, -1,  2]])"
      ]
     },
     "execution_count": 28,
     "metadata": {},
     "output_type": "execute_result"
    }
   ],
   "source": [
    "V"
   ]
  },
  {
   "cell_type": "code",
   "execution_count": 57,
   "metadata": {},
   "outputs": [],
   "source": [
    "def z_func(x, W):\n",
    "    z_list = []\n",
    "    for i in range(W.shape[0]):\n",
    "        z_list.append(np.maximum((x[0] * W[i][0] + x[1] * W[i][1] + W[i][2]), 0))\n",
    "    return z"
   ]
  },
  {
   "cell_type": "code",
   "execution_count": 58,
   "metadata": {},
   "outputs": [
    {
     "data": {
      "text/plain": [
       "4"
      ]
     },
     "execution_count": 58,
     "metadata": {},
     "output_type": "execute_result"
    }
   ],
   "source": [
    "W.shape[0]"
   ]
  },
  {
   "cell_type": "code",
   "execution_count": 59,
   "metadata": {},
   "outputs": [
    {
     "data": {
      "text/plain": [
       "[2, 13, 0, 0]"
      ]
     },
     "execution_count": 59,
     "metadata": {},
     "output_type": "execute_result"
    }
   ],
   "source": [
    "# z_1, z_2, z_3, z_4 = z_func(x, W)\n",
    "z = z_func(x, W)\n",
    "z"
   ]
  },
  {
   "cell_type": "code",
   "execution_count": 60,
   "metadata": {},
   "outputs": [],
   "source": [
    "def v_func(z, V):\n",
    "    v_list = []\n",
    "    for i in range(V.shape[0]):\n",
    "        v_list.append(np.maximum((z[0] * V[i][0] + z[1] * V[i][1] + z[2] * V[i][2] + z[3] * V[i][3] + V[i][4]), 0))\n",
    "    return v_list"
   ]
  },
  {
   "cell_type": "code",
   "execution_count": 62,
   "metadata": {},
   "outputs": [],
   "source": [
    "u_1, u_2 = v_func(z, V)"
   ]
  },
  {
   "cell_type": "code",
   "execution_count": 64,
   "metadata": {},
   "outputs": [],
   "source": [
    "o_1 = np.exp(u_1)/(np.exp(u_1)+ np.exp(u_2))\n",
    "o_2 = np.exp(u_2)/(np.exp(u_1)+ np.exp(u_2))"
   ]
  },
  {
   "cell_type": "code",
   "execution_count": 65,
   "metadata": {},
   "outputs": [
    {
     "data": {
      "text/plain": [
       "0.9999996940977731"
      ]
     },
     "execution_count": 65,
     "metadata": {},
     "output_type": "execute_result"
    }
   ],
   "source": [
    "o_1"
   ]
  },
  {
   "cell_type": "code",
   "execution_count": 78,
   "metadata": {},
   "outputs": [
    {
     "data": {
      "text/plain": [
       "3.059022269256247e-07"
      ]
     },
     "execution_count": 78,
     "metadata": {},
     "output_type": "execute_result"
    }
   ],
   "source": [
    "o_2"
   ]
  },
  {
   "cell_type": "code",
   "execution_count": 68,
   "metadata": {},
   "outputs": [
    {
     "data": {
      "text/plain": [
       "3.059022269256247e-07"
      ]
     },
     "execution_count": 68,
     "metadata": {},
     "output_type": "execute_result"
    }
   ],
   "source": [
    "o_2"
   ]
  },
  {
   "cell_type": "code",
   "execution_count": 69,
   "metadata": {},
   "outputs": [
    {
     "data": {
      "text/plain": [
       "0.11920292202211755"
      ]
     },
     "execution_count": 69,
     "metadata": {},
     "output_type": "execute_result"
    }
   ],
   "source": [
    "np.exp(0)/(np.exp(0)+ np.exp(2))"
   ]
  },
  {
   "cell_type": "code",
   "execution_count": 70,
   "metadata": {},
   "outputs": [
    {
     "data": {
      "text/plain": [
       "0.5"
      ]
     },
     "execution_count": 70,
     "metadata": {},
     "output_type": "execute_result"
    }
   ],
   "source": [
    "np.exp(1)/(np.exp(1)+ np.exp(1))"
   ]
  },
  {
   "cell_type": "code",
   "execution_count": 77,
   "metadata": {},
   "outputs": [
    {
     "data": {
      "text/plain": [
       "0.9525741268224333"
      ]
     },
     "execution_count": 77,
     "metadata": {},
     "output_type": "execute_result"
    }
   ],
   "source": [
    "np.exp(3)/(np.exp(3)+ np.exp(0))"
   ]
  },
  {
   "cell_type": "code",
   "execution_count": 76,
   "metadata": {},
   "outputs": [
    {
     "data": {
      "text/plain": [
       "0.36787944117144233"
      ]
     },
     "execution_count": 76,
     "metadata": {},
     "output_type": "execute_result"
    }
   ],
   "source": [
    "np.exp(-1)"
   ]
  },
  {
   "cell_type": "code",
   "execution_count": 79,
   "metadata": {},
   "outputs": [],
   "source": [
    "o_1_beta_3 = np.exp(*u_1)/(3*np.exp(u_1)+ np.exp(3*u_2))\n",
    "o_2_beta_3 = np.exp(3*u_2)/(3*np.exp(u_1)+ np.exp(3*u_2))"
   ]
  },
  {
   "cell_type": "code",
   "execution_count": 80,
   "metadata": {},
   "outputs": [
    {
     "data": {
      "text/plain": [
       "3562157830617.372"
      ]
     },
     "execution_count": 80,
     "metadata": {},
     "output_type": "execute_result"
    }
   ],
   "source": [
    "o_1_beta_3"
   ]
  },
  {
   "cell_type": "code",
   "execution_count": 82,
   "metadata": {},
   "outputs": [
    {
     "data": {
      "text/plain": [
       "False"
      ]
     },
     "execution_count": 82,
     "metadata": {},
     "output_type": "execute_result"
    }
   ],
   "source": [
    "o_2_beta_3>=1/1000"
   ]
  },
  {
   "cell_type": "code",
   "execution_count": 83,
   "metadata": {},
   "outputs": [],
   "source": [
    "o_1_beta_1 = np.exp(0)/(np.exp(0)+ np.exp(0))\n",
    "o_2_beta_1 = np.exp()/(np.exp(0)+ np.exp(2))"
   ]
  },
  {
   "cell_type": "code",
   "execution_count": 85,
   "metadata": {},
   "outputs": [
    {
     "data": {
      "text/plain": [
       "True"
      ]
     },
     "execution_count": 85,
     "metadata": {},
     "output_type": "execute_result"
    }
   ],
   "source": [
    "o_2_beta_1 >=1/1000"
   ]
  },
  {
   "cell_type": "markdown",
   "metadata": {},
   "source": [
    "## LSTM"
   ]
  },
  {
   "cell_type": "code",
   "execution_count": 457,
   "metadata": {},
   "outputs": [],
   "source": [
    "def ft (W_fh, h_t1, W_fx, x_t, b_f):\n",
    "    x = W_fh * h_t1 + W_fx * x_t + b_f\n",
    "    if x >= 1:\n",
    "        return 1\n",
    "    elif x <= -1:\n",
    "        return 0\n",
    "    return 1/(1+np.exp(-x))\n",
    "\n",
    "def it (W_ih, h_t1, W_ix, x_t, b_i):\n",
    "    x = W_ih * h_t1 +W_ix * x_t + b_i\n",
    "    if x >= 1:\n",
    "        return 1\n",
    "    elif x <= -1:\n",
    "        return 0\n",
    "    return 1/(1+np.exp(-x))\n",
    "\n",
    "def ot (W_oh, h_t1, W_ox, x_t, b_o):\n",
    "    x = W_oh * h_t1 +W_ox * x_t + b_o\n",
    "    if x >= 1:\n",
    "        return 1\n",
    "    elif x <= -1:\n",
    "        return 0\n",
    "    return 1/(1+np.exp(-x))\n",
    "\n",
    "def ct (ft, c_t1, it, W_ch, h_t1, W_cx, x_t, b_c):\n",
    "    x = W_ch * h_t1 + W_cx * x_t + b_c\n",
    "#     print(\"ft: \", ft, \"\\nct: \", c_t1)\n",
    "    tanh_x = (np.exp(x)-np.exp(-x))/((np.exp(x)+np.exp(-x)))\n",
    "#     print(\"x: \", x ,\"\\ntanh: \", tanh_x)\n",
    "    if x >= 1:\n",
    "        tanh_x = 1\n",
    "    elif x <= -1:\n",
    "        tanh_x = -1\n",
    "    x_one = np.dot(ft, c_t1)\n",
    "    x_two = np.dot(it, tanh_x)\n",
    "    return x_one + x_two\n",
    "\n",
    "def ht (ot, ct):\n",
    "    tanh_x = (np.exp(ct)-np.exp(-ct))/((np.exp(ct)+np.exp(-ct)))\n",
    "    print(\"tanh: \", tanh_x)\n",
    "    print(\"ct: \", ct)\n",
    "#     if ct >= 1:\n",
    "#         tanh_x = 1\n",
    "#     elif ct <= -1:\n",
    "#         tanh_x = -1\n",
    "    return np.dot(ot, tanh_x)"
   ]
  },
  {
   "cell_type": "code",
   "execution_count": 458,
   "metadata": {},
   "outputs": [],
   "source": [
    "W_fh = W_fx = W_ih = W_oh = 0\n",
    "W_ix = W_ox = 100\n",
    "W_ch = -100\n",
    "W_cx = 50\n",
    "b_o = b_c = 0\n",
    "b_i = 100\n",
    "b_f = -100\n",
    "h_t1 = 0\n",
    "c_t1 = 0\n",
    "x_t = [0,0,1,1,1,0]"
   ]
  },
  {
   "cell_type": "code",
   "execution_count": 459,
   "metadata": {},
   "outputs": [],
   "source": [
    "ft_list = []\n",
    "for i in x_t:\n",
    "    ft_list.append(ft(W_fh, h_t1, W_fx, i, b_f))"
   ]
  },
  {
   "cell_type": "code",
   "execution_count": 460,
   "metadata": {},
   "outputs": [
    {
     "data": {
      "text/plain": [
       "[0, 0, 0, 0, 0, 0]"
      ]
     },
     "execution_count": 460,
     "metadata": {},
     "output_type": "execute_result"
    }
   ],
   "source": [
    "ft_list"
   ]
  },
  {
   "cell_type": "code",
   "execution_count": 461,
   "metadata": {},
   "outputs": [],
   "source": [
    "it_list = []\n",
    "for i in x_t:\n",
    "    it_list.append(it(W_ih, h_t1, W_ix, i, b_i))"
   ]
  },
  {
   "cell_type": "code",
   "execution_count": 462,
   "metadata": {},
   "outputs": [
    {
     "data": {
      "text/plain": [
       "[1, 1, 1, 1, 1, 1]"
      ]
     },
     "execution_count": 462,
     "metadata": {},
     "output_type": "execute_result"
    }
   ],
   "source": [
    "it_list"
   ]
  },
  {
   "cell_type": "code",
   "execution_count": 463,
   "metadata": {},
   "outputs": [],
   "source": [
    "ot_list = []\n",
    "for i in x_t:\n",
    "    ot_list.append(ot(W_oh, h_t1, W_ox, i, b_o))"
   ]
  },
  {
   "cell_type": "code",
   "execution_count": 464,
   "metadata": {},
   "outputs": [
    {
     "data": {
      "text/plain": [
       "[0.5, 0.5, 1, 1, 1, 0.5]"
      ]
     },
     "execution_count": 464,
     "metadata": {},
     "output_type": "execute_result"
    }
   ],
   "source": [
    "ot_list"
   ]
  },
  {
   "cell_type": "code",
   "execution_count": 465,
   "metadata": {},
   "outputs": [],
   "source": [
    "ct_list = []\n",
    "for i in x_t:\n",
    "    ct_list.append(ct(ft_list, c_t1, it_list, W_ch, h_t1, W_cx, i, b_c))"
   ]
  },
  {
   "cell_type": "code",
   "execution_count": 466,
   "metadata": {},
   "outputs": [
    {
     "data": {
      "text/plain": [
       "[array([0., 0., 0., 0., 0., 0.]),\n",
       " array([0., 0., 0., 0., 0., 0.]),\n",
       " array([1, 1, 1, 1, 1, 1]),\n",
       " array([1, 1, 1, 1, 1, 1]),\n",
       " array([1, 1, 1, 1, 1, 1]),\n",
       " array([0., 0., 0., 0., 0., 0.])]"
      ]
     },
     "execution_count": 466,
     "metadata": {},
     "output_type": "execute_result"
    }
   ],
   "source": [
    "ct_list"
   ]
  },
  {
   "cell_type": "code",
   "execution_count": 467,
   "metadata": {},
   "outputs": [
    {
     "name": "stdout",
     "output_type": "stream",
     "text": [
      "tanh:  [0. 0. 0. 0. 0. 0.]\n",
      "ct:  [0. 0. 0. 0. 0. 0.]\n",
      "tanh:  [0. 0. 0. 0. 0. 0.]\n",
      "ct:  [0. 0. 0. 0. 0. 0.]\n",
      "tanh:  [0.76159416 0.76159416 0.76159416 0.76159416 0.76159416 0.76159416]\n",
      "ct:  [1 1 1 1 1 1]\n",
      "tanh:  [0.76159416 0.76159416 0.76159416 0.76159416 0.76159416 0.76159416]\n",
      "ct:  [1 1 1 1 1 1]\n",
      "tanh:  [0.76159416 0.76159416 0.76159416 0.76159416 0.76159416 0.76159416]\n",
      "ct:  [1 1 1 1 1 1]\n",
      "tanh:  [0. 0. 0. 0. 0. 0.]\n",
      "ct:  [0. 0. 0. 0. 0. 0.]\n"
     ]
    }
   ],
   "source": [
    "ht_list = []\n",
    "for i in range(len(ct_list)):\n",
    "    ht_list.append(ht(ot_list[i], ct_list[i]))"
   ]
  },
  {
   "cell_type": "code",
   "execution_count": 468,
   "metadata": {},
   "outputs": [
    {
     "data": {
      "text/plain": [
       "[array([0., 0., 0., 0., 0., 0.]),\n",
       " array([0., 0., 0., 0., 0., 0.]),\n",
       " array([0.76159416, 0.76159416, 0.76159416, 0.76159416, 0.76159416,\n",
       "        0.76159416]),\n",
       " array([0.76159416, 0.76159416, 0.76159416, 0.76159416, 0.76159416,\n",
       "        0.76159416]),\n",
       " array([0.76159416, 0.76159416, 0.76159416, 0.76159416, 0.76159416,\n",
       "        0.76159416]),\n",
       " array([0., 0., 0., 0., 0., 0.])]"
      ]
     },
     "execution_count": 468,
     "metadata": {},
     "output_type": "execute_result"
    }
   ],
   "source": [
    "ht_list"
   ]
  },
  {
   "cell_type": "code",
   "execution_count": 445,
   "metadata": {},
   "outputs": [
    {
     "data": {
      "text/plain": [
       "6"
      ]
     },
     "execution_count": 445,
     "metadata": {},
     "output_type": "execute_result"
    }
   ],
   "source": [
    "len(ct_list)"
   ]
  },
  {
   "cell_type": "code",
   "execution_count": 403,
   "metadata": {},
   "outputs": [
    {
     "data": {
      "text/plain": [
       "2.0809165621704557"
      ]
     },
     "execution_count": 403,
     "metadata": {},
     "output_type": "execute_result"
    }
   ],
   "source": [
    "15*np.exp(30*0.01+2)/(np.exp(15*0.01+1) +1)**3"
   ]
  },
  {
   "cell_type": "code",
   "execution_count": 398,
   "metadata": {},
   "outputs": [],
   "source": []
  },
  {
   "cell_type": "code",
   "execution_count": 399,
   "metadata": {},
   "outputs": [],
   "source": [
    "c = 1/2*(sigma-1)**2"
   ]
  },
  {
   "cell_type": "code",
   "execution_count": 400,
   "metadata": {},
   "outputs": [
    {
     "data": {
      "text/plain": [
       "0.3342140120616554"
      ]
     },
     "execution_count": 400,
     "metadata": {},
     "output_type": "execute_result"
    }
   ],
   "source": [
    "c"
   ]
  },
  {
   "cell_type": "code",
   "execution_count": 401,
   "metadata": {},
   "outputs": [
    {
     "data": {
      "text/plain": [
       "2.718281828459045"
      ]
     },
     "execution_count": 401,
     "metadata": {},
     "output_type": "execute_result"
    }
   ],
   "source": [
    "np.e"
   ]
  },
  {
   "cell_type": "code",
   "execution_count": 404,
   "metadata": {},
   "outputs": [
    {
     "data": {
      "text/plain": [
       "-0.00548050572158204"
      ]
     },
     "execution_count": 404,
     "metadata": {},
     "output_type": "execute_result"
    }
   ],
   "source": [
    "-(3*np.exp(3*(-5)/100+1))/(100*(np.exp(3*(-5)/100+1))**3)"
   ]
  },
  {
   "cell_type": "code",
   "execution_count": 408,
   "metadata": {},
   "outputs": [],
   "source": [
    "w_1 = 0.01\n",
    "w_2 = -5\n",
    "b = -1\n",
    "t = 1\n",
    "x = 3\n",
    "\n",
    "z_1 = w_1 * x\n",
    "a_1 = np.maximum(0, z_1)\n",
    "z_2 = w_2 * a_1 + b\n",
    "y = 1/(1+np.exp(-z_2))\n",
    "c = 1/2*(y - t)**2\n"
   ]
  },
  {
   "cell_type": "code",
   "execution_count": 413,
   "metadata": {},
   "outputs": [
    {
     "data": {
      "text/plain": [
       "0.03"
      ]
     },
     "execution_count": 413,
     "metadata": {},
     "output_type": "execute_result"
    }
   ],
   "source": [
    "a_1"
   ]
  },
  {
   "cell_type": "code",
   "execution_count": 409,
   "metadata": {},
   "outputs": [
    {
     "data": {
      "text/plain": [
       "0.28842841648243966"
      ]
     },
     "execution_count": 409,
     "metadata": {},
     "output_type": "execute_result"
    }
   ],
   "source": [
    "c"
   ]
  },
  {
   "cell_type": "code",
   "execution_count": 410,
   "metadata": {},
   "outputs": [
    {
     "data": {
      "text/plain": [
       "0.03"
      ]
     },
     "execution_count": 410,
     "metadata": {},
     "output_type": "execute_result"
    }
   ],
   "source": [
    "a_1"
   ]
  },
  {
   "cell_type": "code",
   "execution_count": 411,
   "metadata": {},
   "outputs": [
    {
     "data": {
      "text/plain": [
       "-1.15"
      ]
     },
     "execution_count": 411,
     "metadata": {},
     "output_type": "execute_result"
    }
   ],
   "source": [
    "z_2"
   ]
  },
  {
   "cell_type": "code",
   "execution_count": 412,
   "metadata": {},
   "outputs": [
    {
     "data": {
      "text/plain": [
       "0.24048908305088898"
      ]
     },
     "execution_count": 412,
     "metadata": {},
     "output_type": "execute_result"
    }
   ],
   "source": [
    "y"
   ]
  },
  {
   "cell_type": "code",
   "execution_count": 427,
   "metadata": {},
   "outputs": [],
   "source": [
    "derivative_w2 = -(3*np.exp(3*w_2/100+2))/(100*(np.exp(3*w_2/100)+np.e)**3)"
   ]
  },
  {
   "cell_type": "code",
   "execution_count": 428,
   "metadata": {},
   "outputs": [
    {
     "data": {
      "text/plain": [
       "-0.00416183312434091"
      ]
     },
     "execution_count": 428,
     "metadata": {},
     "output_type": "execute_result"
    }
   ],
   "source": [
    "derivative_w2"
   ]
  },
  {
   "cell_type": "code",
   "execution_count": 418,
   "metadata": {},
   "outputs": [
    {
     "data": {
      "text/plain": [
       "-0.15000000000000002"
      ]
     },
     "execution_count": 418,
     "metadata": {},
     "output_type": "execute_result"
    }
   ],
   "source": [
    "w_1*w_2*x"
   ]
  },
  {
   "cell_type": "code",
   "execution_count": 429,
   "metadata": {},
   "outputs": [],
   "source": [
    "derivative_b = -np.exp(b+3/10)/(np.exp(b)+ np.exp(3/20))**3"
   ]
  },
  {
   "cell_type": "code",
   "execution_count": 430,
   "metadata": {},
   "outputs": [
    {
     "data": {
      "text/plain": [
       "-0.13872777081136367"
      ]
     },
     "execution_count": 430,
     "metadata": {},
     "output_type": "execute_result"
    }
   ],
   "source": [
    "derivative_b"
   ]
  },
  {
   "cell_type": "code",
   "execution_count": 426,
   "metadata": {},
   "outputs": [
    {
     "data": {
      "text/plain": [
       "0.03"
      ]
     },
     "execution_count": 426,
     "metadata": {},
     "output_type": "execute_result"
    }
   ],
   "source": [
    "w_1*x"
   ]
  },
  {
   "cell_type": "code",
   "execution_count": null,
   "metadata": {},
   "outputs": [],
   "source": []
  }
 ],
 "metadata": {
  "kernelspec": {
   "display_name": "Python [conda env:6.86x]",
   "language": "python",
   "name": "conda-env-6.86x-py"
  },
  "language_info": {
   "codemirror_mode": {
    "name": "ipython",
    "version": 3
   },
   "file_extension": ".py",
   "mimetype": "text/x-python",
   "name": "python",
   "nbconvert_exporter": "python",
   "pygments_lexer": "ipython3",
   "version": "3.6.12"
  }
 },
 "nbformat": 4,
 "nbformat_minor": 2
}
