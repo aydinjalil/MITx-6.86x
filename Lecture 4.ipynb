{
 "cells": [
  {
   "cell_type": "code",
   "execution_count": 2,
   "metadata": {},
   "outputs": [],
   "source": [
    "import numpy as np\n",
    "feature_matrix = np.array([[1,0,1], [1,1,1], [1,1,-1], [-1,1,1]])\n",
    "y = np.array([2, 2.7, -0.7, 2])\n",
    "theta = np.array([0,1,2])"
   ]
  },
  {
   "cell_type": "code",
   "execution_count": 40,
   "metadata": {},
   "outputs": [],
   "source": [
    "def emp_error(feature_matrix, y_val, theta):\n",
    "    import numpy as np\n",
    "    import sys\n",
    "    import sys\n",
    "    hinge_loss = 0\n",
    "    eps = sys.float_info.epsilon\n",
    "    for i in range (feature_matrix.shape[0]):\n",
    "        print(\"feature vector: \", feature_matrix[i], \"\\ny_val: \", y_val[i], \"\\ntheta: \", theta)\n",
    "        prediction = y_val[i] - np.matmul(theta.T, feature_matrix[i].T)\n",
    "        if prediction >= 1 + eps:\n",
    "            hinge_loss += 0\n",
    "        else: hinge_loss += 1- prediction \n",
    "    return hinge_loss/feature_matrix.shape[0]"
   ]
  },
  {
   "cell_type": "code",
   "execution_count": 41,
   "metadata": {},
   "outputs": [
    {
     "name": "stdout",
     "output_type": "stream",
     "text": [
      "feature vector:  [1 0 1] \n",
      "y_val:  2.0 \n",
      "theta:  [0 1 2]\n",
      "feature vector:  [1 1 1] \n",
      "y_val:  2.7 \n",
      "theta:  [0 1 2]\n",
      "feature vector:  [ 1  1 -1] \n",
      "y_val:  -0.7 \n",
      "theta:  [0 1 2]\n",
      "feature vector:  [-1  1  1] \n",
      "y_val:  2.0 \n",
      "theta:  [0 1 2]\n"
     ]
    },
    {
     "data": {
      "text/plain": [
       "1.25"
      ]
     },
     "execution_count": 41,
     "metadata": {},
     "output_type": "execute_result"
    }
   ],
   "source": [
    "emp_error(feature_matrix, y, theta)"
   ]
  },
  {
   "cell_type": "code",
   "execution_count": 46,
   "metadata": {},
   "outputs": [],
   "source": [
    "def emp_error_2(feature_matrix, y_val, theta):\n",
    "    import numpy as np\n",
    "    import sys\n",
    "    import sys\n",
    "    empirical_error = 0\n",
    "    eps = sys.float_info.epsilon\n",
    "    for i in range (feature_matrix.shape[0]):\n",
    "        print(\"feature vector: \", feature_matrix[i], \"\\ny_val: \", y_val[i], \"\\ntheta: \", theta)\n",
    "        prediction = y_val[i] - np.matmul(theta.T, feature_matrix[i].T)\n",
    "        if prediction >= 1 + eps:\n",
    "            empirical_error += 0\n",
    "        else: empirical_error += np.square(prediction)/2 \n",
    "    return empirical_error/feature_matrix.shape[0]"
   ]
  },
  {
   "cell_type": "code",
   "execution_count": 47,
   "metadata": {},
   "outputs": [
    {
     "name": "stdout",
     "output_type": "stream",
     "text": [
      "feature vector:  [1 0 1] \n",
      "y_val:  2.0 \n",
      "theta:  [0 1 2]\n",
      "feature vector:  [1 1 1] \n",
      "y_val:  2.7 \n",
      "theta:  [0 1 2]\n",
      "feature vector:  [ 1  1 -1] \n",
      "y_val:  -0.7 \n",
      "theta:  [0 1 2]\n",
      "feature vector:  [-1  1  1] \n",
      "y_val:  2.0 \n",
      "theta:  [0 1 2]\n"
     ]
    },
    {
     "data": {
      "text/plain": [
       "0.1475"
      ]
     },
     "execution_count": 47,
     "metadata": {},
     "output_type": "execute_result"
    }
   ],
   "source": [
    "emp_error_2(feature_matrix, y, theta)"
   ]
  },
  {
   "cell_type": "code",
   "execution_count": null,
   "metadata": {},
   "outputs": [],
   "source": []
  }
 ],
 "metadata": {
  "kernelspec": {
   "display_name": "Python [conda env:6.86x]",
   "language": "python",
   "name": "conda-env-6.86x-py"
  },
  "language_info": {
   "codemirror_mode": {
    "name": "ipython",
    "version": 3
   },
   "file_extension": ".py",
   "mimetype": "text/x-python",
   "name": "python",
   "nbconvert_exporter": "python",
   "pygments_lexer": "ipython3",
   "version": "3.6.12"
  }
 },
 "nbformat": 4,
 "nbformat_minor": 2
}
