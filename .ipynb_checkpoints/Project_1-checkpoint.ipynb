{
 "cells": [
  {
   "cell_type": "markdown",
   "metadata": {},
   "source": [
    "## Introduction\n",
    "\n",
    "The goal of this project is to design a classifier to use for sentiment analysis of product reviews. Our training set consists of reviews written by Amazon customers for various food products. The reviews, originally given on a 5 point scale, have been adjusted to a +1 or -1 scale, representing a positive or negative review, respectively.\n",
    "\n",
    "Below are two example entries from our dataset. Each entry consists of the review and its label. The two reviews were written by different customers describing their experience with a sugar-free candy.\n",
    "\n",
    "Review\tlabel\n",
    "Nasty No flavor. The candy is just red, No flavor. Just plan and chewy. I would never buy them again\t −1 \n",
    "YUMMY! You would never guess that they're sugar-free and it's so great that you can eat them pretty much guilt free! i was so impressed that i've ordered some for myself (w dark chocolate) to take to the office. These are just EXCELLENT!\t 1 \n",
    "In order to automatically analyze reviews, you will need to complete the following tasks:\n",
    "\n",
    "Implement and compare three types of linear classifiers: the perceptron algorithm, the average perceptron algorithm, and the Pegasos algorithm.\n",
    "\n",
    "Use your classifiers on the food review dataset, using some simple text features.\n",
    "\n",
    "Experiment with additional features and explore their impact on classifier performance.\n",
    "\n"
   ]
  },
  {
   "cell_type": "markdown",
   "metadata": {},
   "source": [
    "In this project you will be implementing linear classifiers beginning with the Perceptron algorithm. You will begin by writing your loss function, a hinge-loss function. For this function you are given the parameters of your model  θ  and  θ_0 . Additionally, you are given a feature matrix in which the rows are feature vectors and the columns are individual features, and a vector of labels representing the actual sentiment of the corresponding feature vector."
   ]
  },
  {
   "cell_type": "markdown",
   "metadata": {},
   "source": [
    "## Hinge Loss on One Data Sample\n",
    "\n",
    "First, implement the basic hinge loss calculation on a single data-point. Instead of the entire feature matrix, you are given one row, representing the feature vector of a single data sample, and its label of +1 or -1 representing the ground truth sentiment of the data sample.\n",
    "\n",
    "Reminder: You can implement this function locally first, and run python test.py in your sentiment_analysis directory to validate basic functionality before checking against the online grader here.\n",
    "\n",
    "Available Functions: You have access to the NumPy python library as np; No need to import anything."
   ]
  },
  {
   "cell_type": "code",
   "execution_count": 1,
   "metadata": {},
   "outputs": [],
   "source": [
    "def hinge_loss_single(feature_vector, label, theta, theta_0):\n",
    "    \"\"\"\n",
    "    Finds the hinge loss on a single data point given specific classification\n",
    "    parameters.\n",
    "\n",
    "    Args:\n",
    "        feature_vector - A numpy array describing the given data point.\n",
    "        label - A real valued number, the correct classification of the data\n",
    "            point.\n",
    "        theta - A numpy array describing the linear classifier.\n",
    "        theta_0 - A real valued number representing the offset parameter.\n",
    "\n",
    "\n",
    "    Returns: A real number representing the hinge loss associated with the\n",
    "    given data point and parameters.\n",
    "    \"\"\"\n",
    "    # Your code here\n",
    "#     import sys\n",
    "#     eps = sys.float_info.epsilon\n",
    "    import numpy as np\n",
    "    agreement = label * (np.matmul(theta, feature_vector) + theta_0)\n",
    "    if agreement >= 1:\n",
    "        return 0\n",
    "    else: return 1 - agreement\n",
    "    raise NotImplementedError"
   ]
  },
  {
   "cell_type": "code",
   "execution_count": 2,
   "metadata": {},
   "outputs": [],
   "source": [
    "import numpy as np\n",
    "feature_vector = np.array([1, 2])\n",
    "label, theta, theta_0 = 1, np.array([-1, 1]), -0.2"
   ]
  },
  {
   "cell_type": "code",
   "execution_count": 3,
   "metadata": {},
   "outputs": [
    {
     "data": {
      "text/plain": [
       "0.19999999999999996"
      ]
     },
     "execution_count": 3,
     "metadata": {},
     "output_type": "execute_result"
    }
   ],
   "source": [
    "hinge_loss_single(feature_vector, label, theta, theta_0)"
   ]
  },
  {
   "cell_type": "markdown",
   "metadata": {},
   "source": [
    "## The Complete Hinge Loss\n",
    "\n",
    "Now it's time to implement the complete hinge loss for a full set of data. Your input will be a full feature matrix this time, and you will have a vector of corresponding labels. The kth row of the feature matrix corresponds to the kth element of the labels vector. This function should return the appropriate loss of the classifier on the given dataset.\n",
    "\n",
    "Available Functions: You have access to the NumPy python library as np, and your previous function as hinge_loss_single"
   ]
  },
  {
   "cell_type": "code",
   "execution_count": 4,
   "metadata": {},
   "outputs": [],
   "source": [
    "def hinge_loss_full(feature_matrix, labels, theta, theta_0):\n",
    "    \"\"\"\n",
    "    Finds the total hinge loss on a set of data given specific classification\n",
    "    parameters.\n",
    "\n",
    "    Args:\n",
    "        feature_matrix - A numpy matrix describing the given data. Each row\n",
    "            represents a single data point.\n",
    "        labels - A numpy array where the kth element of the array is the\n",
    "            correct classification of the kth row of the feature matrix.\n",
    "        theta - A numpy array describing the linear classifier.\n",
    "        theta_0 - A real valued number representing the offset parameter.\n",
    "\n",
    "\n",
    "    Returns: A real number representing the hinge loss associated with the\n",
    "    given dataset and parameters. This number should be the average hinge\n",
    "    loss across all of the points in the feature matrix.\n",
    "    \"\"\"\n",
    "    # Your code here\n",
    "    hinge_loss = []\n",
    "    import numpy as np\n",
    "    agreement = 0\n",
    "    for i in range (len(feature_matrix)):\n",
    "#         print(\"feature_matrix: \", feature_matrix[i], \"\\n\",\"labels: \", labels[i], \"\\n\", \"theta: \", theta, \"\\n\", \"theta_0: \", theta_0)\n",
    "        hinge_loss.append(hinge_loss_single(feature_matrix[i], labels[i], theta, theta_0))\n",
    "        \n",
    "    return sum(hinge_loss)/len(hinge_loss)\n",
    "    raise NotImplementedError\n"
   ]
  },
  {
   "cell_type": "code",
   "execution_count": 5,
   "metadata": {},
   "outputs": [],
   "source": [
    "import numpy as np\n",
    "feature_matrix = np.array([[1, 2], [1, 2]])\n",
    "label, theta, theta_0 = np.array([1, 1]), np.array([-1, 1]), -0.2"
   ]
  },
  {
   "cell_type": "code",
   "execution_count": 6,
   "metadata": {},
   "outputs": [
    {
     "data": {
      "text/plain": [
       "0.19999999999999996"
      ]
     },
     "execution_count": 6,
     "metadata": {},
     "output_type": "execute_result"
    }
   ],
   "source": [
    "hinge_loss_full(feature_matrix, label, theta, theta_0)"
   ]
  },
  {
   "cell_type": "markdown",
   "metadata": {},
   "source": [
    "## Perceptron Single Step Update\n",
    "\n",
    "Now you will implement the single step update for the perceptron algorithm (implemented with  0−1  loss). You will be given the feature vector as an array of numbers, the current  θ  and  θ0  parameters, and the correct label of the feature vector. The function should return a tuple in which the first element is the correctly updated value of  θ  and the second element is the correctly updated value of  θ0 .\n",
    "\n",
    "Available Functions: You have access to the NumPy python library as np.\n",
    "\n",
    "Tip:: Because of numerical instabilities, it is preferable to identify  0  with a small range  [−ε,ε] . That is, when  x  is a float, “ x=0 \" should be checked with  |x|<ε ."
   ]
  },
  {
   "cell_type": "code",
   "execution_count": 7,
   "metadata": {},
   "outputs": [],
   "source": [
    "def perceptron_single_step_update(\n",
    "        feature_vector,\n",
    "        label,\n",
    "        current_theta,\n",
    "        current_theta_0):\n",
    "    \"\"\"\n",
    "    Properly updates the classification parameter, theta and theta_0, on a\n",
    "    single step of the perceptron algorithm.\n",
    "\n",
    "    Args:\n",
    "        feature_vector - A numpy array describing a single data point.\n",
    "        label - The correct classification of the feature vector.\n",
    "        current_theta - The current theta being used by the perceptron\n",
    "            algorithm before this update.\n",
    "        current_theta_0 - The current theta_0 being used by the perceptron\n",
    "            algorithm before this update.\n",
    "\n",
    "    Returns: A tuple where the first element is a numpy array with the value of\n",
    "    theta after the current update has completed and the second element is a\n",
    "    real valued number with the value of theta_0 after the current updated has\n",
    "    completed.\n",
    "    \"\"\"\n",
    "    # Your code here\n",
    "    \n",
    "    import numpy as np\n",
    "    import sys\n",
    "    eps = sys.float_info.epsilon\n",
    "    agreement = np.matmul(current_theta, feature_vector) + current_theta_0\n",
    "#     print(\"current theta: \", current_theta, \"\\nfeature vector: \", feature_vector)\n",
    "    if label * agreement <= eps:\n",
    "        current_theta = current_theta + label * feature_vector\n",
    "        current_theta_0 = current_theta_0 + label\n",
    "#         print(\"new theta: \", current_theta)\n",
    "#         print(\"new theta_0: \", current_theta_0)\n",
    "    return (current_theta, current_theta_0)\n",
    "    raise NotImplementedError\n"
   ]
  },
  {
   "cell_type": "code",
   "execution_count": 8,
   "metadata": {},
   "outputs": [],
   "source": [
    "feature_vector = np.array([1, 2])\n",
    "label, theta, theta_0 = 1, np.array([-1, 1]), -1.5"
   ]
  },
  {
   "cell_type": "code",
   "execution_count": 9,
   "metadata": {},
   "outputs": [
    {
     "data": {
      "text/plain": [
       "(array([0, 3]), -0.5)"
      ]
     },
     "execution_count": 9,
     "metadata": {},
     "output_type": "execute_result"
    }
   ],
   "source": [
    "perceptron_single_step_update(feature_vector, label, theta, theta_0)"
   ]
  },
  {
   "cell_type": "markdown",
   "metadata": {},
   "source": [
    "## Full Perceptron Algorithm\n",
    "\n",
    "In this step you will implement the full perceptron algorithm. You will be given the same feature matrix and labels array as you were given in The Complete Hinge Loss. You will also be given  T , the maximum number of times that you should iterate through the feature matrix before terminating the algorithm. Initialize  θ  and  θ0  to zero. This function should return a tuple in which the first element is the final value of  θ  and the second element is the value of  θ0 .\n",
    "\n",
    "Tip: Call the function perceptron_single_step_update directly without coding it again.\n",
    "\n",
    "Hint: Make sure you initialize theta to a 1D array of shape (n,) and not a 2D array of shape (1, n).\n",
    "\n",
    "Note: Please call get_order(feature_matrix.shape[0]), and use the ordering to iterate the feature matrix in each iteration. The ordering is specified due to grading purpose. In practice, people typically just randomly shuffle indices to do stochastic optimization.\n",
    "\n",
    "Available Functions: You have access to the NumPy python library as np and perceptron_single_step_update which you have already implemented."
   ]
  },
  {
   "cell_type": "code",
   "execution_count": 10,
   "metadata": {},
   "outputs": [],
   "source": [
    "def get_order(n_samples):\n",
    "    import random\n",
    "    try:\n",
    "        with open(str(n_samples) + '.txt') as fp:\n",
    "            line = fp.readline()\n",
    "            return list(map(int, line.split(',')))\n",
    "    except FileNotFoundError:\n",
    "        random.seed(1)\n",
    "        indices = list(range(n_samples))\n",
    "        random.shuffle(indices)\n",
    "        return indices"
   ]
  },
  {
   "cell_type": "code",
   "execution_count": 11,
   "metadata": {},
   "outputs": [],
   "source": [
    "def perceptron(feature_matrix, labels, T):\n",
    "    \"\"\"\n",
    "    Runs the full perceptron algorithm on a given set of data. Runs T\n",
    "    iterations through the data set, there is no need to worry about\n",
    "    stopping early.\n",
    "\n",
    "    NOTE: Please use the previously implemented functions when applicable.\n",
    "    Do not copy paste code from previous parts.\n",
    "\n",
    "    NOTE: Iterate the data matrix by the orders returned by get_order(feature_matrix.shape[0])\n",
    "\n",
    "    Args:\n",
    "        feature_matrix -  A numpy matrix describing the given data. Each row\n",
    "            represents a single data point.\n",
    "        labels - A numpy array where the kth element of the array is the\n",
    "            correct classification of the kth row of the feature matrix.\n",
    "        T - An integer indicating how many times the perceptron algorithm\n",
    "            should iterate through the feature matrix.\n",
    "\n",
    "    Returns: A tuple where the first element is a numpy array with the value of\n",
    "    theta, the linear classification parameter, after T iterations through the\n",
    "    feature matrix and the second element is a real number with the value of\n",
    "    theta_0, the offset classification parameter, after T iterations through\n",
    "    the feature matrix.\n",
    "    \"\"\"\n",
    "    # Your code here\n",
    "    import numpy as np\n",
    "    theta_initial = np.zeros(feature_matrix.shape[1])\n",
    "    \n",
    "    theta_0 = 0\n",
    "    for t in range(T):\n",
    "        for i in get_order(feature_matrix.shape[0]):\n",
    "#             print(\"theta initial: \", theta_initial)\n",
    "#             print(\"feature vector initial: \", feature_matrix[i])\n",
    "            result = perceptron_single_step_update(feature_matrix[i], labels[i], theta_initial, theta_0)\n",
    "            theta_initial, theta_0 = result[0], result[1]\n",
    "    return result\n",
    "    raise NotImplementedError\n"
   ]
  },
  {
   "cell_type": "code",
   "execution_count": 12,
   "metadata": {},
   "outputs": [],
   "source": [
    "feature_matrix = np.array([[ 0.4035203,   0.28894458, -0.12486269, -0.04578899,  0.36238546],\n",
    " [-0.27751049, -0.27716508,  0.42165351,  0.24132152,  0.28515631],\n",
    " [-0.38530347,  0.00116068, -0.33433676, -0.36820732, -0.07616756],\n",
    " [ 0.1353266,  -0.10719389, -0.03288649, -0.08073938, -0.28007916],\n",
    " [ 0.1824488, -0.01956054, -0.06688538,  0.21609729,  0.18220093],\n",
    " [-0.28683194,  0.43843641,  0.49160722,  0.4477392,   0.46135786],\n",
    " [ 0.40663016, -0.09465012,  0.38968499, -0.02181301, -0.44431982],\n",
    " [ 0.05915232, -0.03751725,  0.15674614, -0.30074138, -0.12557084],\n",
    " [-0.10882891, -0.12297511, -0.03260046,  0.37328685,  0.01039494],\n",
    " [-0.29082105, -0.09391986,  0.07273626,  0.39260552, -0.2284224 ]])\n",
    "labels = np.array([-1, 1, 1, -1, -1, 1, -1, -1, -1, 1])"
   ]
  },
  {
   "cell_type": "code",
   "execution_count": 13,
   "metadata": {},
   "outputs": [
    {
     "data": {
      "text/plain": [
       "(array([-1.88537906, -0.14065328,  0.59293704,  0.51691744, -0.63641656]), 0)"
      ]
     },
     "execution_count": 13,
     "metadata": {},
     "output_type": "execute_result"
    }
   ],
   "source": [
    "perceptron(feature_matrix, labels, 5)"
   ]
  },
  {
   "cell_type": "markdown",
   "metadata": {},
   "source": [
    "## Average Perceptron Algorithm\n",
    "\n",
    "The average perceptron will add a modification to the original perceptron algorithm: since the basic algorithm continues updating as the algorithm runs, nudging parameters in possibly conflicting directions, it is better to take an average of those parameters as the final answer. Every update of the algorithm is the same as before. The returned parameters  θ , however, are an average of the  θ s across the  nT  steps:\n",
    "\n",
    "θfinal=(1/nT)*(θ(1)+θ(2)+...+θ(nT)) \n",
    "\n",
    "You will now implement the average perceptron algorithm. This function should be constructed similarly to the Full Perceptron Algorithm above, except that it should return the average values of  θ  and  θ0 \n",
    "\n",
    "Tip: Tracking a moving average through loops is difficult, but tracking a sum through loops is simple.\n",
    "\n",
    "Note: Please call get_order(feature_matrix.shape[0]), and use the ordering to iterate the feature matrix in each iteration. The ordering is specified due to grading purpose. In practice, people typically just randomly shuffle indices to do stochastic optimization.\n",
    "\n",
    "Available Functions: You have access to the NumPy python library as np and perceptron_single_step_update which you have already implemented."
   ]
  },
  {
   "cell_type": "code",
   "execution_count": 14,
   "metadata": {},
   "outputs": [],
   "source": [
    "def average_perceptron(feature_matrix, labels, T):\n",
    "    \"\"\"\n",
    "    Runs the average perceptron algorithm on a given set of data. Runs T\n",
    "    iterations through the data set, there is no need to worry about\n",
    "    stopping early.\n",
    "\n",
    "    NOTE: Please use the previously implemented functions when applicable.\n",
    "    Do not copy paste code from previous parts.\n",
    "\n",
    "    NOTE: Iterate the data matrix by the orders returned by get_order(feature_matrix.shape[0])\n",
    "\n",
    "\n",
    "    Args:\n",
    "        feature_matrix -  A numpy matrix describing the given data. Each row\n",
    "            represents a single data point.\n",
    "        labels - A numpy array where the kth element of the array is the\n",
    "            correct classification of the kth row of the feature matrix.\n",
    "        T - An integer indicating how many times the perceptron algorithm\n",
    "            should iterate through the feature matrix.\n",
    "\n",
    "    Returns: A tuple where the first element is a numpy array with the value of\n",
    "    the average theta, the linear classification parameter, found after T\n",
    "    iterations through the feature matrix and the second element is a real\n",
    "    number with the value of the average theta_0, the offset classification\n",
    "    parameter, found after T iterations through the feature matrix.\n",
    "\n",
    "    Hint: It is difficult to keep a running average; however, it is simple to\n",
    "    find a sum and divide.\n",
    "    \"\"\"\n",
    "    # Your code here\n",
    "    import numpy as np\n",
    "    \n",
    "    theta_initial = np.zeros(feature_matrix.shape[1])\n",
    "    theta_sum = np.zeros(feature_matrix.shape[1])\n",
    "    theta_0 = 0\n",
    "    theta_0_sum = 0\n",
    "    for t in range(T):\n",
    "        for i in get_order(feature_matrix.shape[0]):\n",
    "            theta_initial, theta_0 = perceptron_single_step_update(feature_matrix[i], labels[i], theta_initial, theta_0)\n",
    "            theta_sum += theta_initial\n",
    "            theta_0_sum += theta_0\n",
    "    num_samples = T * feature_matrix.shape[0]\n",
    "    return (theta_sum/num_samples, theta_0_sum/num_samples)\n",
    "    raise NotImplementedError\n"
   ]
  },
  {
   "cell_type": "code",
   "execution_count": 15,
   "metadata": {},
   "outputs": [],
   "source": [
    "feature_matrix_average = np.array([[1, 2], [-1, 0]])\n",
    "labels_average = np.array([1, 1])\n",
    "T = 2"
   ]
  },
  {
   "cell_type": "code",
   "execution_count": 16,
   "metadata": {},
   "outputs": [
    {
     "data": {
      "text/plain": [
       "(array([-0.25,  1.5 ]), 1.75)"
      ]
     },
     "execution_count": 16,
     "metadata": {},
     "output_type": "execute_result"
    }
   ],
   "source": [
    "average_perceptron(feature_matrix_average, labels_average, T)"
   ]
  },
  {
   "cell_type": "markdown",
   "metadata": {},
   "source": [
    "# 4. Pegasos Algorithm\n",
    "\n",
    "Project due Mar 2, 2021 18:59 EST\n",
    "Now you will implement the Pegasos algorithm. For more information, refer to the original paper at original paper.\n",
    "\n",
    "The following pseudo-code describes the Pegasos update rule.\n",
    "\n",
    "Pegasos update rule(x(i),y(i),λ,η,θ):\n",
    "if y(i)(θ⋅x(i))≤1 then\n",
    "  update θ=(1−ηλ)θ+ηy(i)x(i)\n",
    "else:\n",
    "  update θ=(1−ηλ)θ\n",
    "\n",
    "The η parameter is a decaying factor that will decrease over time. The λ parameter is a regularizing parameter.\n",
    "\n",
    "In this problem, you will need to adapt this update rule to add a bias term (θ0) to the hypothesis, but take care not to penalize the magnitude of θ0."
   ]
  },
  {
   "cell_type": "markdown",
   "metadata": {},
   "source": [
    "## Pegasos Single Step Update\n",
    "\n",
    "Next you will implement the single step update for the Pegasos algorithm. This function is very similar to the function that you implemented in Perceptron Single Step Update, except that it should utilize the Pegasos parameter update rules instead of those for perceptron. The function will also be passed a λ and η value to use for updates.\n",
    "\n",
    "Available Functions: You have access to the NumPy python library as np."
   ]
  },
  {
   "cell_type": "code",
   "execution_count": 42,
   "metadata": {},
   "outputs": [],
   "source": [
    "def pegasos_single_step_update(\n",
    "        feature_vector,\n",
    "        label,\n",
    "        L,\n",
    "        eta,\n",
    "        current_theta,\n",
    "        current_theta_0):\n",
    "    \"\"\"\n",
    "    Properly updates the classification parameter, theta and theta_0, on a\n",
    "    single step of the Pegasos algorithm\n",
    "\n",
    "    Args:\n",
    "        feature_vector - A numpy array describing a single data point.\n",
    "        label - The correct classification of the feature vector.\n",
    "        L - The lamba value being used to update the parameters.\n",
    "        eta - Learning rate to update parameters.\n",
    "        current_theta - The current theta being used by the Pegasos\n",
    "            algorithm before this update.\n",
    "        current_theta_0 - The current theta_0 being used by the\n",
    "            Pegasos algorithm before this update.\n",
    "\n",
    "    Returns: A tuple where the first element is a numpy array with the value of\n",
    "    theta after the current update has completed and the second element is a\n",
    "    real valued number with the value of theta_0 after the current updated has\n",
    "    completed.\n",
    "    \"\"\"\n",
    "    # Your code here\n",
    "    import numpy as np\n",
    "    import sys\n",
    "    eps = sys.float_info.epsilon\n",
    "    update_theta = np.zeros(current_theta.shape[0])\n",
    "    update_theta_0 = 0\n",
    "    agreement = np.matmul(current_theta, feature_vector)\n",
    "    if label * agreement + current_theta_0 > 1 + eps:\n",
    "        update_theta = (1 - eta * L) * current_theta\n",
    "        update_theta_0 = current_theta_0\n",
    "    else:\n",
    "        update_theta = (1 - eta * L) * current_theta + eta * label * feature_vector\n",
    "        update_theta_0 = current_theta_0 + label * eta\n",
    "    return(update_theta, update_theta_0)\n",
    "    raise NotImplementedError\n"
   ]
  },
  {
   "cell_type": "code",
   "execution_count": 43,
   "metadata": {},
   "outputs": [],
   "source": [
    "feature_vector = np.array([1, 1])\n",
    "label, theta, theta_0 = 1, np.array([-1, 1]), 1\n",
    "L = 0.2\n",
    "eta = 0.1"
   ]
  },
  {
   "cell_type": "code",
   "execution_count": 44,
   "metadata": {},
   "outputs": [
    {
     "data": {
      "text/plain": [
       "(array([-0.88,  1.08]), 1.1)"
      ]
     },
     "execution_count": 44,
     "metadata": {},
     "output_type": "execute_result"
    }
   ],
   "source": [
    "pegasos_single_step_update(feature_vector, label, L, eta, theta, theta_0,)"
   ]
  },
  {
   "cell_type": "markdown",
   "metadata": {},
   "source": [
    "## Full Pegasos Algorithm\n",
    "\n",
    "Finally you will implement the full Pegasos algorithm. You will be given the same feature matrix and labels array as you were given in Full Perceptron Algorithm. You will also be given T, the maximum number of times that you should iterate through the feature matrix before terminating the algorithm. Initialize θ and θ0 to zero. For each update, set η=1t√ where t is a counter for the number of updates performed so far (between 1 and nT inclusive). This function should return a tuple in which the first element is the final value of θ and the second element is the value of θ0.\n",
    "\n",
    "Note: Please call get_order(feature_matrix.shape[0]), and use the ordering to iterate the feature matrix in each iteration. The ordering is specified due to grading purpose. In practice, people typically just randomly shuffle indices to do stochastic optimization.\n",
    "\n",
    "Available Functions: You have access to the NumPy python library as np and pegasos_single_step_update which you have already implemented."
   ]
  },
  {
   "cell_type": "code",
   "execution_count": 20,
   "metadata": {},
   "outputs": [],
   "source": [
    "def pegasos(feature_matrix, labels, T, L):\n",
    "    \"\"\"\n",
    "    Runs the Pegasos algorithm on a given set of data. Runs T\n",
    "    iterations through the data set, there is no need to worry about\n",
    "    stopping early.\n",
    "\n",
    "    For each update, set learning rate = 1/sqrt(t),\n",
    "    where t is a counter for the number of updates performed so far (between 1\n",
    "    and nT inclusive).\n",
    "\n",
    "    NOTE: Please use the previously implemented functions when applicable.\n",
    "    Do not copy paste code from previous parts.\n",
    "\n",
    "    Args:\n",
    "        feature_matrix - A numpy matrix describing the given data. Each row\n",
    "            represents a single data point.\n",
    "        labels - A numpy array where the kth element of the array is the\n",
    "            correct classification of the kth row of the feature matrix.\n",
    "        T - An integer indicating how many times the algorithm\n",
    "            should iterate through the feature matrix.\n",
    "        L - The lamba value being used to update the Pegasos\n",
    "            algorithm parameters.\n",
    "\n",
    "    Returns: A tuple where the first element is a numpy array with the value of\n",
    "    the theta, the linear classification parameter, found after T\n",
    "    iterations through the feature matrix and the second element is a real\n",
    "    number with the value of the theta_0, the offset classification\n",
    "    parameter, found after T iterations through the feature matrix.\n",
    "    \"\"\"\n",
    "    # Your code here\n",
    "    import numpy as np\n",
    "    theta = np.zeros(feature_matrix.shape[1])\n",
    "    theta_0 = 0\n",
    "    count = 0\n",
    "    for t in range(T):\n",
    "        for i in get_order(feature_matrix.shape[0]):\n",
    "            count += 1\n",
    "            eta = 1/np.sqrt(count)\n",
    "#             print(\"eta = \", eta)\n",
    "            result = pegasos_single_step_update(feature_matrix[i], labels[i], L, eta, theta, theta_0)\n",
    "            theta, theta_0 = result[0], result[1]\n",
    "#         print(\"theta = \", theta)\n",
    "    return (result)\n",
    "    raise NotImplementedError\n"
   ]
  },
  {
   "cell_type": "code",
   "execution_count": 47,
   "metadata": {},
   "outputs": [],
   "source": [
    "feature_matrix = np.array([[1, 2]])\n",
    "labels = np.array([1])\n",
    "T = 1\n",
    "L = 0.2"
   ]
  },
  {
   "cell_type": "code",
   "execution_count": 49,
   "metadata": {},
   "outputs": [
    {
     "data": {
      "text/plain": [
       "(array([1., 2.]), 1.0)"
      ]
     },
     "execution_count": 49,
     "metadata": {},
     "output_type": "execute_result"
    }
   ],
   "source": [
    "pegasos(feature_matrix, labels, T, L)"
   ]
  },
  {
   "cell_type": "code",
   "execution_count": 54,
   "metadata": {},
   "outputs": [
    {
     "name": "stdout",
     "output_type": "stream",
     "text": [
      "theta for Perceptron is 1.8809999999999982, 3.8159999999999963\n",
      "theta_0 for Perceptron is -5.0\n"
     ]
    },
    {
     "data": {
      "image/png": "[encoded data removed]",
      "text/plain": [
       "<Figure size 432x288 with 1 Axes>"
      ]
     },
     "metadata": {
      "needs_background": "light"
     },
     "output_type": "display_data"
    },
    {
     "name": "stdout",
     "output_type": "stream",
     "text": [
      "theta for Average Perceptron is 2.425476, 2.6097040000000176\n",
      "theta_0 for Average Perceptron is -4.732\n"
     ]
    },
    {
     "data": {
      "image/png": "[encoded data removed]",
      "text/plain": [
       "<Figure size 432x288 with 1 Axes>"
      ]
     },
     "metadata": {
      "needs_background": "light"
     },
     "output_type": "display_data"
    },
    {
     "name": "stdout",
     "output_type": "stream",
     "text": [
      "theta for Pegasos is 3.438580447568352, 3.3074222585637925\n",
      "theta_0 for Pegasos is -15.080433141005859\n"
     ]
    },
    {
     "data": {
      "image/png": "[encoded data removed]",
      "text/plain": [
       "<Figure size 432x288 with 1 Axes>"
      ]
     },
     "metadata": {
      "needs_background": "light"
     },
     "output_type": "display_data"
    }
   ],
   "source": [
    "sys.path.insert(1, 'D:\\EDX Courses\\MITx-6.86x\\Project_1_data')\n",
    "import project1 as p1\n",
    "import utils\n",
    "import numpy as np\n",
    "\n",
    "# import sys\n",
    "\n",
    "\n",
    "# import utils\n",
    "# import project1\n",
    "\n",
    "\n",
    "train_data = utils.load_data('Project_1_data/reviews_train.tsv')\n",
    "val_data = utils.load_data('Project_1_data/reviews_val.tsv')\n",
    "test_data = utils.load_data('Project_1_data/reviews_test.tsv')\n",
    "\n",
    "train_texts, train_labels = zip(*((sample['text'], sample['sentiment']) for sample in train_data))\n",
    "val_texts, val_labels = zip(*((sample['text'], sample['sentiment']) for sample in val_data))\n",
    "test_texts, test_labels = zip(*((sample['text'], sample['sentiment']) for sample in test_data))\n",
    "\n",
    "dictionary = p1.bag_of_words(train_texts)\n",
    "\n",
    "train_bow_features = p1.extract_bow_feature_vectors(train_texts, dictionary)\n",
    "val_bow_features = p1.extract_bow_feature_vectors(val_texts, dictionary)\n",
    "test_bow_features = p1.extract_bow_feature_vectors(test_texts, dictionary)\n",
    "\n",
    "toy_features, toy_labels = toy_data = utils.load_toy_data('Project_1_data/toy_data.tsv')\n",
    "# toy_features, toy_labels = toy_data = sys.path.insert(1, 'D:\\EDX Courses\\MITx-6.86x\\Project_1_data/toy_data.tsv')\n",
    "\n",
    "\n",
    "T = 10\n",
    "L = 0.2\n",
    "\n",
    "thetas_perceptron = perceptron(toy_features, toy_labels, T)\n",
    "thetas_avg_perceptron = average_perceptron(toy_features, toy_labels, T)\n",
    "thetas_pegasos = pegasos(toy_features, toy_labels, T, L)\n",
    "\n",
    "def plot_toy_results(algo_name, thetas):\n",
    "    print('theta for', algo_name, 'is', ', '.join(map(str,list(thetas[0]))))\n",
    "    print('theta_0 for', algo_name, 'is', str(thetas[1]))\n",
    "    utils.plot_toy_data(algo_name, toy_features, toy_labels, thetas)\n",
    "\n",
    "plot_toy_results('Perceptron', thetas_perceptron)\n",
    "plot_toy_results('Average Perceptron', thetas_avg_perceptron)\n",
    "plot_toy_results('Pegasos', thetas_pegasos)"
   ]
  },
  {
   "cell_type": "markdown",
   "metadata": {},
   "source": [
    "# 7. Classification and Accuracy\n"
   ]
  },
  {
   "cell_type": "markdown",
   "metadata": {},
   "source": [
    "## Classification\n",
    "\n",
    "Implement a classification function that uses θ and θ0 to classify a set of data points. You are given the feature matrix, θ, and θ0 as defined in previous sections. This function should return a numpy array of -1s and 1s. If a prediction is greater than zero, it should be considered a positive classification.\n",
    "\n",
    "Available Functions: You have access to the NumPy python library as np.\n",
    "\n",
    "Tip: As in previous exercises, when x is a float, “x=0\" should be checked with |x|<ϵ."
   ]
  },
  {
   "cell_type": "code",
   "execution_count": 88,
   "metadata": {},
   "outputs": [],
   "source": [
    "def classify(feature_matrix, theta, theta_0):\n",
    "    \"\"\"\n",
    "    A classification function that uses theta and theta_0 to classify a set of\n",
    "    data points.\n",
    "\n",
    "    Args:\n",
    "        feature_matrix - A numpy matrix describing the given data. Each row\n",
    "            represents a single data point.\n",
    "                theta - A numpy array describing the linear classifier.\n",
    "        theta - A numpy array describing the linear classifier.\n",
    "        theta_0 - A real valued number representing the offset parameter.\n",
    "\n",
    "    Returns: A numpy array of 1s and -1s where the kth element of the array is\n",
    "    the predicted classification of the kth row of the feature matrix using the\n",
    "    given theta and theta_0. If a prediction is GREATER THAN zero, it should\n",
    "    be considered a positive classification.\n",
    "    \"\"\"\n",
    "    # Your code here\n",
    "    import numpy as np\n",
    "    prediction = np.sum(feature_matrix * theta, axis = 1) + theta_0\n",
    "    classification = [1 if v > 0 else -1 for v in prediction]\n",
    "    return np.array(classification)\n",
    "    raise NotImplementedError\n"
   ]
  },
  {
   "cell_type": "code",
   "execution_count": 89,
   "metadata": {},
   "outputs": [],
   "source": [
    "feature_matrix = np.array([[1, 1], [1, 1], [1, 1]])\n",
    "theta = np.array([1, 1])\n",
    "theta_0 = 0"
   ]
  },
  {
   "cell_type": "code",
   "execution_count": 90,
   "metadata": {},
   "outputs": [
    {
     "data": {
      "text/plain": [
       "array([1, 1, 1])"
      ]
     },
     "execution_count": 90,
     "metadata": {},
     "output_type": "execute_result"
    }
   ],
   "source": [
    "classify(feature_matrix, theta, theta_0)\n",
    "\n"
   ]
  },
  {
   "cell_type": "markdown",
   "metadata": {},
   "source": [
    "## Accuracy\n",
    "\n",
    "The accuracy function takes a numpy array of predicted labels and a numpy array of actual labels and returns the prediction accuracy. You should use this function along with the functions that you have implemented thus far in order to implement classifier_accuracy.\n",
    "\n",
    "The classifier_accuracy function should take 6 arguments:\n",
    "\n",
    "a classifier function that, itself, takes arguments (feature_matrix, labels, **kwargs)\n",
    "\n",
    "* the training feature matrix\n",
    "\n",
    "* the validation feature matrix\n",
    "\n",
    "* the training labels\n",
    "\n",
    "* the valiation labels\n",
    "\n",
    "* a **kwargs argument to be passed to the classifier function\n",
    "\n",
    "This function should train the given classifier using the training data and then compute compute the classification accuracy on both the train and validation data. The return values should be a tuple where the first value is the training accuracy and the second value is the validation accuracy.\n",
    "\n",
    "Implement classifier accuracy in the coding box below:\n",
    "\n",
    "Available Functions: You have access to the NumPy python library as np, to classify which you have already implemented and to accuracy which we defined above."
   ]
  },
  {
   "cell_type": "code",
   "execution_count": 92,
   "metadata": {},
   "outputs": [],
   "source": [
    "def accuracy(preds, targets):\n",
    "    \"\"\"\n",
    "    Given length-N vectors containing predicted and target labels,\n",
    "    returns the percentage and number of correct predictions.\n",
    "    \"\"\"\n",
    "    return (preds == targets).mean()"
   ]
  },
  {
   "cell_type": "code",
   "execution_count": 105,
   "metadata": {},
   "outputs": [],
   "source": [
    "def classifier_accuracy(\n",
    "        classifier,\n",
    "        train_feature_matrix,\n",
    "        val_feature_matrix,\n",
    "        train_labels,\n",
    "        val_labels,\n",
    "        **kwargs):\n",
    "    \"\"\"\n",
    "    Trains a linear classifier and computes accuracy.\n",
    "    The classifier is trained on the train data. The classifier's\n",
    "    accuracy on the train and validation data is then returned.\n",
    "\n",
    "    Args:\n",
    "        classifier - A classifier function that takes arguments\n",
    "            (feature matrix, labels, **kwargs) and returns (theta, theta_0)\n",
    "        train_feature_matrix - A numpy matrix describing the training\n",
    "            data. Each row represents a single data point.\n",
    "        val_feature_matrix - A numpy matrix describing the validation\n",
    "            data. Each row represents a single data point.\n",
    "        train_labels - A numpy array where the kth element of the array\n",
    "            is the correct classification of the kth row of the training\n",
    "            feature matrix.\n",
    "        val_labels - A numpy array where the kth element of the array\n",
    "            is the correct classification of the kth row of the validation\n",
    "            feature matrix.\n",
    "        **kwargs - Additional named arguments to pass to the classifier\n",
    "            (e.g. T or L)\n",
    "\n",
    "    Returns: A tuple in which the first element is the (scalar) accuracy of the\n",
    "    trained classifier on the training data and the second element is the\n",
    "    accuracy of the trained classifier on the validation data.\n",
    "    \"\"\"\n",
    "    # Your code here\n",
    "    import numpy as np\n",
    "    theta, theta_0 = classifier(train_feature_matrix, train_labels, **kwargs)\n",
    "    prediction_train_labels =  classify(train_feature_matrix, theta, theta_0)\n",
    "    prediction_val_labels = classify(val_feature_matrix, theta, theta_0)\n",
    "    train_accuracy_check = accuracy(prediction_train_labels, train_labels)\n",
    "    val_accuracy_check = accuracy(prediction_val_labels, val_labels)\n",
    "    return (train_accuracy_check, val_accuracy_check)\n",
    "    raise NotImplementedError\n"
   ]
  },
  {
   "cell_type": "code",
   "execution_count": 106,
   "metadata": {},
   "outputs": [],
   "source": [
    "train_feature_matrix = np.array([[1, 0], [1, -1], [2, 3]])\n",
    "val_feature_matrix = np.array([[1, 1], [2, -1]])\n",
    "train_labels = np.array([1, -1, 1])\n",
    "val_labels = np.array([-1, 1])\n",
    "exp_res = 1, 0\n",
    "T=1"
   ]
  },
  {
   "cell_type": "code",
   "execution_count": 107,
   "metadata": {},
   "outputs": [
    {
     "ename": "TypeError",
     "evalue": "'numpy.ndarray' object is not callable",
     "output_type": "error",
     "traceback": [
      "\u001b[1;31m---------------------------------------------------------------------------\u001b[0m",
      "\u001b[1;31mTypeError\u001b[0m                                 Traceback (most recent call last)",
      "\u001b[1;32m<ipython-input-107-2ce72f9f235c>\u001b[0m in \u001b[0;36m<module>\u001b[1;34m\u001b[0m\n\u001b[1;32m----> 1\u001b[1;33m \u001b[0mclassifier_accuracy\u001b[0m\u001b[1;33m(\u001b[0m\u001b[0mtrain_feature_matrix\u001b[0m\u001b[1;33m,\u001b[0m \u001b[0mval_feature_matrix\u001b[0m\u001b[1;33m,\u001b[0m \u001b[0mtrain_labels\u001b[0m\u001b[1;33m,\u001b[0m \u001b[0mval_labels\u001b[0m\u001b[1;33m,\u001b[0m \u001b[0mT\u001b[0m\u001b[1;33m)\u001b[0m\u001b[1;33m\u001b[0m\u001b[1;33m\u001b[0m\u001b[0m\n\u001b[0m",
      "\u001b[1;32m<ipython-input-105-1cf4635b82c2>\u001b[0m in \u001b[0;36mclassifier_accuracy\u001b[1;34m(classifier, train_feature_matrix, val_feature_matrix, train_labels, val_labels, **kwargs)\u001b[0m\n\u001b[0;32m     33\u001b[0m     \u001b[1;31m# Your code here\u001b[0m\u001b[1;33m\u001b[0m\u001b[1;33m\u001b[0m\u001b[1;33m\u001b[0m\u001b[0m\n\u001b[0;32m     34\u001b[0m     \u001b[1;32mimport\u001b[0m \u001b[0mnumpy\u001b[0m \u001b[1;32mas\u001b[0m \u001b[0mnp\u001b[0m\u001b[1;33m\u001b[0m\u001b[1;33m\u001b[0m\u001b[0m\n\u001b[1;32m---> 35\u001b[1;33m     \u001b[0mtheta\u001b[0m\u001b[1;33m,\u001b[0m \u001b[0mtheta_0\u001b[0m \u001b[1;33m=\u001b[0m \u001b[0mclassifier\u001b[0m\u001b[1;33m(\u001b[0m\u001b[0mtrain_feature_matrix\u001b[0m\u001b[1;33m,\u001b[0m \u001b[0mtrain_labels\u001b[0m\u001b[1;33m,\u001b[0m \u001b[1;33m**\u001b[0m\u001b[0mkwargs\u001b[0m\u001b[1;33m)\u001b[0m\u001b[1;33m\u001b[0m\u001b[1;33m\u001b[0m\u001b[0m\n\u001b[0m\u001b[0;32m     36\u001b[0m     \u001b[0mprediction_train_labels\u001b[0m \u001b[1;33m=\u001b[0m  \u001b[0mclassify\u001b[0m\u001b[1;33m(\u001b[0m\u001b[0mtrain_feature_matrix\u001b[0m\u001b[1;33m,\u001b[0m \u001b[0mtheta\u001b[0m\u001b[1;33m,\u001b[0m \u001b[0mtheta_0\u001b[0m\u001b[1;33m)\u001b[0m\u001b[1;33m\u001b[0m\u001b[1;33m\u001b[0m\u001b[0m\n\u001b[0;32m     37\u001b[0m     \u001b[0mprediction_val_labels\u001b[0m \u001b[1;33m=\u001b[0m \u001b[0mclassify\u001b[0m\u001b[1;33m(\u001b[0m\u001b[0mval_feature_matrix\u001b[0m\u001b[1;33m,\u001b[0m \u001b[0mtheta\u001b[0m\u001b[1;33m,\u001b[0m \u001b[0mtheta_0\u001b[0m\u001b[1;33m)\u001b[0m\u001b[1;33m\u001b[0m\u001b[1;33m\u001b[0m\u001b[0m\n",
      "\u001b[1;31mTypeError\u001b[0m: 'numpy.ndarray' object is not callable"
     ]
    }
   ],
   "source": [
    "classifier_accuracy(train_feature_matrix, val_feature_matrix, train_labels, val_labels, T)"
   ]
  },
  {
   "cell_type": "code",
   "execution_count": null,
   "metadata": {},
   "outputs": [],
   "source": []
  }
 ],
 "metadata": {
  "kernelspec": {
   "display_name": "Python [conda env:6.86x]",
   "language": "python",
   "name": "conda-env-6.86x-py"
  },
  "language_info": {
   "codemirror_mode": {
    "name": "ipython",
    "version": 3
   },
   "file_extension": ".py",
   "mimetype": "text/x-python",
   "name": "python",
   "nbconvert_exporter": "python",
   "pygments_lexer": "ipython3",
   "version": "3.6.12"
  }
 },
 "nbformat": 4,
 "nbformat_minor": 2
}
