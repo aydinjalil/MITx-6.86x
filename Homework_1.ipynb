{
 "cells": [
  {
   "cell_type": "markdown",
   "metadata": {},
   "source": [
    "# Homework due Feb 23, 2021 18:59 EST\n",
    "In this problem, we will investigate the perceptron algorithm with different iteration ordering.\n",
    "\n",
    "Consider applying the perceptron algorithm through the origin based on a small training set containing three points:\n",
    "\n",
    "x(1)  =[-1,-1],\t y(1) =1\n",
    "x(2)  =[1,0],\t y(2) =-1\n",
    "x(3)  =[-1, 1.5],\t y(3) =1\n",
    "Given that the algorithm starts with  θ(0)=0 , the first point that the algorithm sees is always considered a mistake. The algorithm starts with some data point and then cycles through the data (in order) until it makes no further mistakes.\n",
    "\n",
    "1. (a)\n",
    "2.0/4 points (graded)\n",
    "How many mistakes does the algorithm make until convergence if the algorithm starts with data point  x(1) ? How many mistakes does the algorithm make if it starts with data point  x(2) ?\n",
    "\n",
    "Also provide the progression of the separating plane as the algorithm cycles in the following list format:  [[θ(1)1,θ(1)2],…,[θ(N)1,θ(N)2]] , where the superscript denotes different  θ  as the separating plane progresses. For example, if  θ  progress from  [0,0]  (initialization) to  [1,2]  to  [3,−2] , you should enter  [[1,2],[3,−2]] \n",
    "\n",
    "Please enter the number of mistakes of Perceptron algorithm if the algorithm starts with  x(1) ."
   ]
  },
  {
   "cell_type": "code",
   "execution_count": null,
   "metadata": {},
   "outputs": [],
   "source": [
    "import numpy as np"
   ]
  },
  {
   "cell_type": "code",
   "execution_count": null,
   "metadata": {},
   "outputs": [],
   "source": [
    "# Initialize the coordinates of the three points in 2 dimensinal coordinate system\n",
    "\n",
    "x = np.array([[[1,0], [-1,10], [-1,-1]]])\n",
    "\n",
    "# Labels of each point\n",
    "\n",
    "y = np.array([-1, 11])"
   ]
  },
  {
   "cell_type": "code",
   "execution_count": null,
   "metadata": {},
   "outputs": [],
   "source": [
    "# Define perceptron algorithm\n",
    "def perceptron(label, coords):\n",
    "    theta = np.array([0,0])\n",
    "    for t in range(10):\n",
    "        for i in range(len(label)):\n",
    "    #         print(\"cordinates: \", coords[0][i])\n",
    "            dot_prod = np.matmul  (theta,coords[0][i])\n",
    "            print(\"dot product \", theta, \" * \", coords[0][i], \"= \", dot_prod)\n",
    "            classifier = label[i] * dot_prod\n",
    "            print(classifier)\n",
    "            if classifier <= 0:\n",
    "                theta = theta + label[i]*coords[0][i]\n",
    "                print(\"theta: \", theta)\n",
    "    return theta"
   ]
  },
  {
   "cell_type": "code",
   "execution_count": null,
   "metadata": {},
   "outputs": [],
   "source": [
    "perceptron(y, x)"
   ]
  },
  {
   "cell_type": "markdown",
   "metadata": {},
   "source": [
    "### In class we initialized the perceptron algorithm with θ=0. In this problem we will also explore other initialization choices.\n",
    "\n",
    "2. (a)\n",
    "2 points possible (graded)\n",
    "The following table shows a data set and the number of times each point is misclassified during a run of the perceptron"
   ]
  },
  {
   "cell_type": "code",
   "execution_count": null,
   "metadata": {},
   "outputs": [],
   "source": [
    "# Initialize the coordinates of the three points in 2 dimensinal coordinate system\n",
    "\n",
    "x_2 = np.array([[[-4,2], [-2,1], [-1,-1], [2,2], [1,-2]]])\n",
    "\n",
    "# Labels of each point\n",
    "\n",
    "y_2 = np.array([1, 1, -1, -1, -1])"
   ]
  },
  {
   "cell_type": "code",
   "execution_count": null,
   "metadata": {},
   "outputs": [],
   "source": [
    "def perceptron_2(label, coords):\n",
    "    theta = np.array([0,0])\n",
    "    theta_0 = 0\n",
    "    for t in range(10):\n",
    "        for i in range(len(label)):\n",
    "    #         print(\"cordinates: \", coords[0][i])\n",
    "            dot_prod = np.matmul(theta,coords[0][i])\n",
    "#             print(\"dot product \", theta, \" * \", coords[0][i], \"= \", dot_prod)\n",
    "            classifier = label[i] * (dot_prod + theta_0)\n",
    "            print(classifier)\n",
    "            if classifier <= 0:\n",
    "                theta = theta + label[i]*coords[0][i]\n",
    "                theta_0 = theta_0 + label[i]\n",
    "                print(\"theta: \", theta)\n",
    "                print(\"theta_0: \", theta_0)\n",
    "    return theta, theta_0"
   ]
  },
  {
   "cell_type": "code",
   "execution_count": null,
   "metadata": {},
   "outputs": [],
   "source": [
    "perceptron_2(y_2, x_2)"
   ]
  },
  {
   "cell_type": "code",
   "execution_count": null,
   "metadata": {},
   "outputs": [],
   "source": [
    "def test(label, coords):\n",
    "    theta = np.array([-3,3])\n",
    "    theta_0 = -3\n",
    "    for t in range(10):\n",
    "        for i in range(len(label)):\n",
    "    #         print(\"cordinates: \", coords[0][i])\n",
    "            dot_prod = np.matmul(theta,coords[0][i])\n",
    "#             print(\"dot product \", theta, \" * \", coords[0][i], \"= \", dot_prod)\n",
    "            classifier = label[i] * (dot_prod + theta_0)\n",
    "            print(classifier)\n",
    "            if classifier <= 0:\n",
    "                theta = theta + label[i]*coords[0][i]\n",
    "                theta_0 = theta_0 + label[i]\n",
    "                print(\"theta: \", theta)\n",
    "                print(\"theta_0: \", theta_0)\n",
    "    return theta, theta_0"
   ]
  },
  {
   "cell_type": "code",
   "execution_count": null,
   "metadata": {},
   "outputs": [],
   "source": [
    "test(y_2, x_2)"
   ]
  },
  {
   "cell_type": "markdown",
   "metadata": {},
   "source": [
    "## You are given the following labeled data points:\n",
    "\n",
    "Positive examples:  [−1,1]  and  [1,−1] ,\n",
    "\n",
    "Negative examples:  [1,1]  and  [2,2] .\n",
    "\n",
    "For each of the following parameterized families of classifiers, identify which parameterized family has a family member that can correctly classify the above data and find the corresponding parameters of a family member that can correctly classify the above data.\n",
    "\n",
    "Note: If there is no family member inside the parameterized family that can correctly classify the above data, just enter  0  for all the parameters.\n",
    "\n",
    "Inside (positive) or outside (negative) of an origin-centered circle with radius  r . Enter a scalar for  r . If there is no such  r , just enter 0."
   ]
  },
  {
   "cell_type": "code",
   "execution_count": null,
   "metadata": {},
   "outputs": [],
   "source": [
    "import numpy as np\n",
    "import math\n",
    "import matplotlib.pyplot as plt\n"
   ]
  },
  {
   "cell_type": "code",
   "execution_count": null,
   "metadata": {},
   "outputs": [],
   "source": [
    "pos = np.array([[-1,1], [1,-1]])\n",
    "neg = np.array([[1,1], [2,2]])\n",
    "x = [-1,1,1,2]\n",
    "y = [1,-1,1,2]\n",
    "color=['b','b','r','r']\n",
    "\n",
    "\n",
    "figure, axes = plt.subplots()\n",
    "draw_circle = plt.Circle((-1, -11), 0.3,fill=False)\n",
    "\n",
    "axes.add_artist(draw_circle)\n",
    "plt.scatter(x,y, s=100 ,marker='o', c=color)\n",
    "plt.title('Circle')\n",
    "plt.show()"
   ]
  },
  {
   "cell_type": "code",
   "execution_count": null,
   "metadata": {},
   "outputs": [],
   "source": [
    "class Axes():\n",
    "    \n",
    "    def __init__(self, xlim=(-5,5), ylim=(-5,5), figsize=(12,5)):\n",
    "        self.xlim = xlim\n",
    "        self.ylim = ylim\n",
    "        self.figsize  = figsize\n",
    "        self.points   = []\n",
    "        self.segments = []\n",
    "        self.vectors  = []\n",
    "        self.lines    = []\n",
    "        self.scale_arrows()\n",
    "    def __arrow__(self, x, y, dx, dy, width, length):\n",
    "        plt.arrow(\n",
    "            x, y, dx, dy, \n",
    "            color       = 'k',\n",
    "            clip_on     = False, \n",
    "            head_width  = self.head_width, \n",
    "            head_length = self.head_length\n",
    "        ) \n",
    "        \n",
    "    def __drawAxis__(self):\n",
    "        \"\"\"\n",
    "        Draws the 2D cartesian axis\n",
    "        \"\"\"\n",
    "        # A subplot with two additional axis, \"xzero\" and \"yzero\"\n",
    "        # corresponding to the cartesian axis\n",
    "        ax = SubplotZero(self.fig, 1, 1, 1)\n",
    "        self.fig.add_subplot(ax)\n",
    "        \n",
    "        # make xzero axis (horizontal axis line through y=0) visible.\n",
    "        for axis in [\"xzero\",\"yzero\"]:\n",
    "            ax.axis[axis].set_visible(True)\n",
    "        # make the other axis (left, bottom, top, right) invisible\n",
    "        for n in [\"left\", \"right\", \"bottom\", \"top\"]:\n",
    "            ax.axis[n].set_visible(False)\n",
    "            \n",
    "        # Plot limits\n",
    "        plt.xlim(self.xlim)\n",
    "        plt.ylim(self.ylim)\n",
    "        # Draw the arrows\n",
    "        self.__arrow__(self.xlim[1], 0, 0.01, 0, 0.3, 0.2) # x-axis arrow\n",
    "        self.__arrow__(0, self.ylim[1], 0, 0.01, 0.2, 0.3) # y-axis arrow\n",
    "        \n",
    "        \n",
    "    def scale_arrows(self):\n",
    "        \"\"\" Make the arrows look good regardless of the axis limits \"\"\"\n",
    "        xrange = self.xlim[1] - self.xlim[0]\n",
    "        yrange = self.ylim[1] - self.ylim[0]\n",
    "        \n",
    "        self.head_width  = min(xrange/30, 0.25)\n",
    "        self.head_length = min(yrange/30, 0.3)\n",
    "        \n",
    "        \n",
    "    def draw(self, image=None):\n",
    "        self.scale_arrows()\n",
    "        self.fig = plt.figure(figsize=self.figsize)\n",
    "        # First draw the axis\n",
    "        self.__drawAxis__()\n",
    "        # Plot each point\n",
    "        for point in self.points:\n",
    "            point.draw()\n",
    "        # Save the image?\n",
    "        if image:\n",
    "            plt.savefig(image)\n",
    "        plt.show()\n",
    "        \n",
    "    def addPoints(self, points):\n",
    "        for p in points:\n",
    "            self.addPoint(p)\n",
    "            \n",
    "    def addPoint(self, p):\n",
    "        self.points.append(p)"
   ]
  },
  {
   "cell_type": "code",
   "execution_count": null,
   "metadata": {},
   "outputs": [],
   "source": [
    "class Point():\n",
    "    \n",
    "    def __init__(self, x, y, color='#4ca3dd', size=50, add_coordinates=True):\n",
    "        self.x = x\n",
    "        self.y = y\n",
    "        self.color = color\n",
    "        self.size  = size\n",
    "        self.add_coordinates = add_coordinates\n",
    "        self.y_offset = 0.2\n",
    "        self.items = np.array([x,y])\n",
    "        self.len = 2\n",
    "        \n",
    "    def __getitem__(self, index):\n",
    "        return self.items[index]\n",
    "    \n",
    "    def __str__(self):\n",
    "        return \"Point(%.2f,%.2f)\" % (self.x, self.y)\n",
    "    \n",
    "    def __repr__(self):\n",
    "        return \"Point(%.2f,%.2f)\" % (self.x, self.y)\n",
    "    \n",
    "    def __len__(self):\n",
    "        return self.len\n",
    "    \n",
    "    def draw(self):\n",
    "        plt.scatter([self.x], [self.y], color=self.color, s=self.size)\n",
    "        \n",
    "        # Add the coordinates if asked by user\n",
    "        if self.add_coordinates:\n",
    "            plt.text(\n",
    "                self.x, self.y + self.y_offset,\n",
    "                \"(%.1f,%.1f)\"%(self.x,self.y),\n",
    "                horizontalalignment='center',\n",
    "                verticalalignment='bottom',\n",
    "                fontsize=12\n",
    "            )\n",
    " "
   ]
  },
  {
   "cell_type": "code",
   "execution_count": null,
   "metadata": {},
   "outputs": [],
   "source": [
    "import math\n",
    "import matplotlib.pyplot as plt\n",
    "import numpy as np\n",
    "from mpl_toolkits.axisartist import SubplotZero\n",
    "# Create the cartesian axis\n",
    "axes = Axes(xlim=(-3,3), ylim=(-3,3), figsize=(9,7))\n",
    "# Create two points\n",
    "p1 = Point(-1,1, color='#ffa500')\n",
    "p2 = Point(1,-1, color='#ffa500')\n",
    "p3 = Point(1,1, color='#0000ff')\n",
    "p4 = Point(2,2, color='#0000ff')\n",
    "axes.addPoints([p1, p2, p3, p4])\n",
    "axes.draw()\n"
   ]
  },
  {
   "cell_type": "code",
   "execution_count": null,
   "metadata": {},
   "outputs": [],
   "source": [
    "import numpy as np\n",
    "import math\n",
    "y = np.array([1,1])\n",
    "x = np.array([[-1,0], [0,1]]) "
   ]
  },
  {
   "cell_type": "code",
   "execution_count": null,
   "metadata": {},
   "outputs": [],
   "source": [
    "def perceptron_cos(y_param, x_param):\n",
    "    import math\n",
    "    import numpy as np\n",
    "    theta = np.array([0,0])\n",
    "    for t in range(2):\n",
    "        for i in range(2):\n",
    "            print(\"x_param = \", x_param)\n",
    "            dot_prod = np.matmul(theta,x_param)\n",
    "            print(\"dot product \", theta, \" * \", x_param, \"= \", dot_prod)\n",
    "            classifier = y_param[i] * dot_prod\n",
    "            print(classifier)\n",
    "            if classifier <= 0:\n",
    "                print(x_param)\n",
    "                theta = theta + y_param[i] * x_param\n",
    "                print(\"theta: \", theta)\n",
    "    return theta"
   ]
  },
  {
   "cell_type": "code",
   "execution_count": null,
   "metadata": {},
   "outputs": [],
   "source": [
    "#Test the script with 0 and 1th element of x\n",
    "perceptron_cos(y,x[1])"
   ]
  },
  {
   "cell_type": "code",
   "execution_count": null,
   "metadata": {},
   "outputs": [],
   "source": []
  }
 ],
 "metadata": {
  "kernelspec": {
   "display_name": "Python [conda env:6.86x]",
   "language": "python",
   "name": "conda-env-6.86x-py"
  },
  "language_info": {
   "codemirror_mode": {
    "name": "ipython",
    "version": 3
   },
   "file_extension": ".py",
   "mimetype": "text/x-python",
   "name": "python",
   "nbconvert_exporter": "python",
   "pygments_lexer": "ipython3",
   "version": "3.6.12"
  }
 },
 "nbformat": 4,
 "nbformat_minor": 2
}
